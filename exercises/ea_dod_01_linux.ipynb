{
 "cells": [
  {
   "cell_type": "markdown",
   "metadata": {},
   "source": [
    "# Основен вовед во командна линија на линукс"
   ]
  },
  {
   "cell_type": "markdown",
   "metadata": {},
   "source": [
    "Graphical user interfaces make the easy stuff easy, command line interfaces make the difficult stuff possible.\n",
    "\n",
    "**BASH** - GNU Project's shell - Bourne Again SHell - a free software replacement for the Unix Bourne shell"
   ]
  },
  {
   "cell_type": "markdown",
   "metadata": {},
   "source": [
    "### Writing tips\n",
    "- $\\uparrow$ - cycles through history of commands (`zsh` offers more advanced cycling through commands starting with typed text as a filter)\n",
    "- `Ctrl + `$\\leftarrow$ / `Ctrl + `$\\rightarrow$ - moves one word left / right\n",
    "- `Ctrl + w` - deletes last word\n",
    "- `Ctrl + u` - deletes till beginning of line\n",
    "- `Ctrl + Shift + c` / `Ctrl + Shift + v` - copy / paste\n",
    "- `Ctrl + l` - clear screen\n"
   ]
  },
  {
   "cell_type": "markdown",
   "metadata": {},
   "source": [
    "### Command prompt\n",
    "\n",
    "- structure: user, host, wd (working directory), $\n",
    "- `whoami`, `hostname`\n",
    "- `echo $USER`, `echo $HOSTNAME`\n",
    "- `users`\n",
    "- customization: `export PS1=\"[\\t \\u@\\h \\w]\\$ \"`\n",
    "- reload shell `source .bashrc`"
   ]
  },
  {
   "cell_type": "markdown",
   "metadata": {},
   "source": [
    "### Git\n",
    "\n",
    "- pull from EA git repo\n",
    "- `git clone https://gitlab.com/feeit-freecourseware/electroacoustics.git`\n"
   ]
  },
  {
   "cell_type": "markdown",
   "metadata": {},
   "source": [
    "### Folder structure\n",
    "\n",
    "- root node of linux tree `/`\n",
    "- `cat /etc/fstab`, `df -h`\n",
    "- home folder `~`\n",
    "- `pwd`\n",
    "- relative vs absolute path names\n",
    "- `cd`, adding places: `bashmarks`, `autojump`\n",
    "- `cd -`\n",
    "- `mkdir`\n",
    "- `ls` + options and arguments\n",
    "- getting help: `--help`, `man`, `tldr`\n",
    "- `tree`, `tree -d`"
   ]
  },
  {
   "cell_type": "markdown",
   "metadata": {},
   "source": [
    "### Shell built-ins and programs\n",
    "\n",
    "- `type`\n",
    "   - `type cd`\n",
    "   - `type mkdir`\n",
    "   - `type ls`\n",
    "- `echo $PATH`\n",
    "- `ls /usr/bin`"
   ]
  },
  {
   "cell_type": "markdown",
   "metadata": {},
   "source": [
    "### Files\n",
    "\n",
    "- long list\n",
    "- permissions\n",
    "- `touch` for creating files\n",
    "- `mv`, `rm`\n",
    "\n",
    "### Everything is a file\n",
    "- `stdin`, `stdout`, `stderr`\n",
    "- redirection\n",
    "    - `echo hello word`\n",
    "    - `echo hello word >&1`\n",
    "    - `echo hello word > greeter`\n",
    "    - `ls /usr/bin > programs`\n",
    "    - `cat programs`\n",
    "    - `less programs` - less > more\n",
    "    - `head programs`\n",
    "    - `tails programs`\n",
    "    - `bat programs`\n",
    "- pipes\n",
    "    - `ls /usr/bin | less`\n",
    "    - `ls /usr/bin | wc`\n",
    "    - `ls /usr/bin | grep zip` -  name comes from the ed command g/re/p = global search for RegEx and print\n",
    "    - `ls /usr/bin | grep zip > zips`\n",
    "    - `ls /usr/bin | grep zip | wc -l`\n",
    "    - `ls /usr/bin | grep zip | wc -l > zips_total`\n",
    "    - `ls --help | less`\n",
    "    - `ls --help | grep newest`\n",
    "   "
   ]
  },
  {
   "cell_type": "markdown",
   "metadata": {},
   "source": [
    "\n",
    "### Playing with the kernel\n",
    "\n",
    "- `ls /sys/class/`\n",
    "- `cd /sys/class/leds/input4::scrolllock`\n",
    "- `echo 1 > brightness`\n",
    "- `echo 1 | sudo tee brightness`  \n",
    "- `cd /sys/class/backlight/intel_backlight`\n",
    "- `cat brightness`\n",
    "- `cat max_brightness`\n",
    "- `echo 600 | sudo tee brightness`\n",
    "\n",
    "### Installing software\n",
    "\n",
    "- `sudo su`\n",
    "- package managers:\n",
    "    - Debian, Ubuntu, Mint, Rasbian: `apt-get`, `apt`, `aptitude`\n",
    "    - Fedora, Red Hat, CentOS: `dnf`\n",
    "    - Arch, Manjaro: `pacman`, `yay`\n",
    "    - OpenSUSE: `zypper`\n",
    "- no need to go to the web:\n",
    "    - `sudo apt search `\n",
    "    - `sudo apt install `\n",
    "    - in Arch based distros it's: `yay -Ss audacity`"
   ]
  },
  {
   "cell_type": "markdown",
   "metadata": {},
   "source": [
    "### History\n",
    "- `history`\n",
    "- `history | less`\n",
    "- `history | tail`\n",
    "- `Ctrl + r` - reverse incremental search\n",
    "- `history | fzf`"
   ]
  },
  {
   "cell_type": "markdown",
   "metadata": {},
   "source": [
    "### Working with code\n",
    "\n",
    "- `cat ea.py`\n",
    "- `less ea.py`\n",
    "- `bat ea.py`\n",
    "- `cat *.py | wc -l` or just `wc -l *.py`\n",
    "- `grep fft *.py`\n",
    "- `grep fft *.py -C 5`\n",
    "- `pdfgrep спектар Elektroakustika_v081.pdf -C 5`\n",
    "- editing code\n",
    "    - `nano` < `micro`\n",
    "    - `vim` < `nvim`\n",
    "    - `emacs`\n"
   ]
  },
  {
   "cell_type": "markdown",
   "metadata": {},
   "source": [
    "### Working with audio\n",
    "\n",
    "- `cd electroacoustics/code/audio`\n",
    "- `ls`\n",
    "- `play viluska.wav` - need to install `sox`\n",
    "- `soxi viluska.wav`\n",
    "- `soxi -D viluska.wav`\n",
    "- calculating total audio length with `awk`\n",
    "    - `for f in *.wav; do echo $f $(soxi -D $f); done >> wav_lens`\n",
    "    - `cat wav_lens | awk '{sum += $2} END {printf sum}'`\n",
    "    - `soxi -D *.wav | awk '{sum += $1} END {printf sum}'`\n",
    "    - `soxi -D *.wav | awk '{sum += $1} END {printf sum/60}'`\n",
    "- with Python using [pyp](https://github.com/hauntsaninja/pyp) (`pip install pypyp`)\n",
    "    - `soxi -D *.wav | pyp -b 'sum = 0' 'sum += float(x)' -a 'sum'`\n",
    "    - `pyp --explain -b 'sum = 0' 'sum += float(x)' -a 'sum'`\n",
    "- converting files to mp3\n",
    "    - `sox viluska.wav viluska.mp3` or `sox viluska.{wav,mp3}`\n",
    "    - `for w in *.wav; do sox $w $(basename $w .wav).mp3; done`\n",
    "- downloading a YouTube video and extracting audio\n",
    "    - `yt-dlp https://www.youtube.com/watch?v=Ag1AKIl_2GM -o video.mp4`\n",
    "    - `ffmpeg -i video.mp4 -vn -acodec copy audio.aac`\n",
    "    - `for f in *.mp4; do echo $f; ffmpeg -i $f -vn -acodec copy \"$(basename $f .mp4).aac\"; done`\n",
    "    - or just use `yt-dlp --extract-audio`\n",
    "    - `tldr yt-dlp`\n",
    "    \n",
    "\n"
   ]
  },
  {
   "cell_type": "markdown",
   "metadata": {},
   "source": [
    "### Working with processes\n",
    "\n",
    "- `yay -Ss xorg-xlogo`\n",
    "- `xlogo` vs `xlogo &`\n",
    "- Controlling command execution:\n",
    "  - `Ctrl + c` - interrupt execution (sends an `INT` signal to the process)\n",
    "  - `Ctrl + z` - pauses exectution (sends a `TSTP` signal to the process)\n",
    "  - `kill` - sends `TERM` signal to process\n",
    "  - `kill KILL` - send `STP` signal to kernel\n",
    "  - `killall`\n",
    "- `top`, `htop`, `bashtop`\n",
    "- Switching off the system:\n",
    "    - `poweroff`\n",
    "    - `shutdown`\n",
    "    - `reboot`\n",
    "    \n"
   ]
  },
  {
   "cell_type": "markdown",
   "metadata": {},
   "source": [
    "### Useful\n",
    "\n",
    "- `zsh` - a more advanced shell https://ohmyz.sh/, install [tutorial](https://medium.com/wearetheledger/oh-my-zsh-made-for-cli-lovers-installation-guide-3131ca5491fb)\n",
    "- `tmux` - terminal multiplexer, https://github.com/tmux/tmux/wiki\n",
    "- `ranger` and `vifm` - file managers\n",
    "- `cal` - calendar\n",
    "- `qalc` - calculator\n",
    "  - `343 m/s to km/h`\n",
    "  - `100 GBP to EUR`\n",
    "  - `100 GBP to MKD`\n",
    "- `curl wttr.in/skopje`, `wego` - weather\n",
    "- `cointop` - crypto\n",
    "\n",
    "### Fun\n",
    "- `asciiquarium`\n",
    "- `cmatrix`\n",
    "- `lolcat` - `ls | lolcat` or `cmatrix | lolcat`\n",
    "- `sl`\n",
    "- `fortune-mod-chuck`, `cowsay`\n",
    "- `telnet towel.blinkenlights.nl`\n",
    "\n",
    "\n"
   ]
  }
 ],
 "metadata": {
  "kernelspec": {
   "display_name": "Python 3 (ipykernel)",
   "language": "python",
   "name": "python3"
  },
  "language_info": {
   "codemirror_mode": {
    "name": "ipython",
    "version": 3
   },
   "file_extension": ".py",
   "mimetype": "text/x-python",
   "name": "python",
   "nbconvert_exporter": "python",
   "pygments_lexer": "ipython3",
   "version": "3.9.13"
  }
 },
 "nbformat": 4,
 "nbformat_minor": 4
}
