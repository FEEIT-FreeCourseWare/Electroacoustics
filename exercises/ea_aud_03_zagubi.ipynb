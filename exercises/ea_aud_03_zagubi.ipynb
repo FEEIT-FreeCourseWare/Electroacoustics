{
 "cells": [
  {
   "cell_type": "markdown",
   "id": "2fbf6563-958f-42c0-9d5b-53df7cdfb381",
   "metadata": {},
   "source": [
    "# Аудиториски вежби 3\n",
    "\n",
    "## Загуби при простирање и дисипација"
   ]
  },
  {
   "cell_type": "markdown",
   "id": "b79c8556-1a20-40aa-9369-ee6f31e1b9e2",
   "metadata": {},
   "source": [
    "(1.32) Еден точекст извор во слободен простор на растојание од 5 m создава ниво од 120 dB. Да се пресмета на кое растојание сеуште може да се слушне изворот ако:\n",
    "  - а) ја занемариме дисипацијата во воздухот\n",
    "  - б) го занемариме слабеењето поради простирање, а дисипацијата е 1 dB на 100 m"
   ]
  },
  {
   "cell_type": "markdown",
   "id": "fdcb5012-d477-47d0-a36c-7acd11e39f26",
   "metadata": {},
   "source": [
    "$ \\Delta L = 20 \\log \\frac{r}{r_0} + m (r - r_0)$\n"
   ]
  },
  {
   "cell_type": "code",
   "execution_count": 1,
   "id": "aa14af93-8927-4647-abd8-1a09cfd0fecc",
   "metadata": {},
   "outputs": [
    {
     "name": "stdout",
     "output_type": "stream",
     "text": [
      "5000000.0 m\n",
      "5000.0 km\n"
     ]
    }
   ],
   "source": [
    "import numpy as np\n",
    "\n",
    "# a) bez disipacija\n",
    "dL = 120  # dB\n",
    "r0 = 5  # m\n",
    "r = r0 * 10**(dL / 20)\n",
    "print(r, 'm')\n",
    "print(r/1000, 'km')"
   ]
  },
  {
   "cell_type": "code",
   "execution_count": 2,
   "id": "fe9da5f6-c36e-47b2-8d85-fd0d15faf014",
   "metadata": {},
   "outputs": [
    {
     "name": "stdout",
     "output_type": "stream",
     "text": [
      "12005.0 m\n",
      "12.005 km\n"
     ]
    }
   ],
   "source": [
    "# b) so disipacija\n",
    "dL = 120  # dB\n",
    "r0 = 5  # m\n",
    "m = 1  # dB/100m\n",
    "r = (dL / m) * 100 + r0\n",
    "print(r, 'm')\n",
    "print(r/1000, 'km')"
   ]
  },
  {
   "cell_type": "markdown",
   "id": "a7c66e3f-6f5b-40a9-b057-c93dab1467d5",
   "metadata": {},
   "source": [
    "(1.33) Една сирена емитува звук со две компоненти на 1000 Hz и на 4000 Hz. На растојание од 1,5 km е измерен звук со ниво од 80 dB. Да се пресмета нивото на 1 m ако дисипацијата на 1000 Hz изнесува 0,5 dB на 100 m, а на 4000 Hz таа е 3 dB на 100 m."
   ]
  },
  {
   "cell_type": "code",
   "execution_count": 3,
   "id": "37e95a2c-4092-4237-ab3a-41d866652866",
   "metadata": {},
   "outputs": [
    {
     "name": "stdout",
     "output_type": "stream",
     "text": [
      "71.01682518111363 63.52182518111363 7.495\n"
     ]
    }
   ],
   "source": [
    "r = 1500  # m\n",
    "r0 = 1  # m\n",
    "# m1 = 0.5  # dB/100m\n",
    "m1 = 0.5/100  # dB/m\n",
    "m2 = 3/100  # dB/m\n",
    "\n",
    "D_r1 = 20*np.log10(r / r0)\n",
    "D_m1 = m1 * (r - r0)\n",
    "D_1 = D_r1 + D_m1\n",
    "print(D_1, D_r1, D_m1)"
   ]
  },
  {
   "cell_type": "code",
   "execution_count": 4,
   "id": "211e626f-3938-41cf-80e2-fb839bccb308",
   "metadata": {},
   "outputs": [
    {
     "name": "stdout",
     "output_type": "stream",
     "text": [
      "108.49182518111363 63.52182518111363 44.97\n"
     ]
    }
   ],
   "source": [
    "D_r2 = 20*np.log10(r / r0)\n",
    "D_m2 = m2 * (r - r0)\n",
    "D_2 = D_r2 + D_m2\n",
    "print(D_2, D_r2, D_m2)"
   ]
  }
 ],
 "metadata": {
  "kernelspec": {
   "display_name": "Python 3 (ipykernel)",
   "language": "python",
   "name": "python3"
  },
  "language_info": {
   "codemirror_mode": {
    "name": "ipython",
    "version": 3
   },
   "file_extension": ".py",
   "mimetype": "text/x-python",
   "name": "python",
   "nbconvert_exporter": "python",
   "pygments_lexer": "ipython3",
   "version": "3.9.13"
  }
 },
 "nbformat": 4,
 "nbformat_minor": 5
}
