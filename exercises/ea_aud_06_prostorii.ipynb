{
 "cells": [
  {
   "cell_type": "markdown",
   "metadata": {},
   "source": [
    "# Аудиториски вежби 6\n",
    "## Акустика на простории"
   ]
  },
  {
   "cell_type": "markdown",
   "metadata": {},
   "source": [
    "4.4 Да се пресмета времето на реверберација за училница со димензии 10 x 6 х 4 m$^3$ при присуство на 40 студенти. Празната училница има време на реверберација од 1,5 s. За студентите да се земе $A_h = 0,5 $ m$^2$."
   ]
  },
  {
   "cell_type": "markdown",
   "metadata": {},
   "source": [
    "$ T = \\frac{0,16 V}{A} $\n",
    "\n",
    "$ A = \\sum_i S_i \\cdot \\alpha_i = S \\cdot \\bar{\\alpha}$"
   ]
  },
  {
   "cell_type": "code",
   "execution_count": 1,
   "metadata": {},
   "outputs": [
    {
     "name": "stdout",
     "output_type": "stream",
     "text": [
      "25.599999999999998\n",
      "240\n"
     ]
    }
   ],
   "source": [
    "V = 10 * 6 * 4  # m3\n",
    "T = 1.5  # s\n",
    "A = 0.16*V / T  # m2 - ekvivalentna apsorpciona povrsina\n",
    "print(A)\n",
    "print(V)"
   ]
  },
  {
   "cell_type": "code",
   "execution_count": 2,
   "metadata": {},
   "outputs": [
    {
     "name": "stdout",
     "output_type": "stream",
     "text": [
      "0.8421052631578948\n"
     ]
    }
   ],
   "source": [
    "Ah = 0.5  # m2\n",
    "A2 = A + 40 * Ah\n",
    "T2 = 0.16*V / A2\n",
    "print(T2)"
   ]
  },
  {
   "cell_type": "markdown",
   "metadata": {},
   "source": [
    "4.8 Професор во слободен простор на растојание од 1 m создава ниво од 74 dB. Колкаво ниво ќе создаде истиот професор во училница со V = 1000 m$^3$ и време на реверберација од 1,25 s."
   ]
  },
  {
   "cell_type": "markdown",
   "metadata": {},
   "source": [
    "$ J = \\frac{4 P_a }{A}$\n",
    "\n",
    "$ J = \\frac{25 P_a T}{V}$"
   ]
  },
  {
   "cell_type": "code",
   "execution_count": 3,
   "metadata": {},
   "outputs": [
    {
     "name": "stdout",
     "output_type": "stream",
     "text": [
      "0.0003156529583952954  W\n",
      "69.94059885702191  dB\n"
     ]
    }
   ],
   "source": [
    "import numpy as np\n",
    "L = 74  # dB\n",
    "J0 = 1e-12  # W/m2\n",
    "J = J0 * 10**(L/10)  # W/m2\n",
    "r = 1\n",
    "# J = Pa / 4 * np.pi * r**2\n",
    "Pa = J * 4 * np.pi * r**2  # W\n",
    "print(Pa, ' W')\n",
    "\n",
    "V = 1000  # m3\n",
    "T = 1.25  # s\n",
    "A = 0.16 * V / T\n",
    "J_prostorija = 4 * Pa / A\n",
    "L_prostorija = 10 * np.log10(J_prostorija / J0)\n",
    "print(L_prostorija, ' dB')"
   ]
  },
  {
   "cell_type": "markdown",
   "metadata": {},
   "source": [
    "4.10 Во амфитеатар со волумен од 2000 m$^3$ се наоѓа паралелка од 50 студенти. Времето на реверберација со паралелката е 2 s. За колку dB ќе се зголеми нивото на звукот во амфитеатарот ако во него влезе уште една паралелка со 100 студенти. Да се земе дека секој студент има еднаква акустичка моќност и еквивалентна апсорпција од 0,5 m$^2$. "
   ]
  },
  {
   "cell_type": "code",
   "execution_count": 4,
   "metadata": {},
   "outputs": [
    {
     "name": "stdout",
     "output_type": "stream",
     "text": [
      "3.590219426416679  dB\n"
     ]
    }
   ],
   "source": [
    "V = 2000  # m3\n",
    "T = 2  # s\n",
    "A = 0.16 * V / T  # m2\n",
    "A2 = A + 100 * 0.5  # m2\n",
    "# J50 = 4 * 50 * Pa / A  # W/m2\n",
    "# J150 = 4 * 150 * Pa / A2  # W/m2\n",
    "# delta_L = 10 * np.log10(J150 / J50)\n",
    "delta_L = 10 * np.log10((4*150/A2) / (4*50/A))\n",
    "print(delta_L, ' dB')\n"
   ]
  },
  {
   "cell_type": "markdown",
   "metadata": {},
   "source": [
    "4.14 Во една просторија со волумен од 1200 m$^3$ и време на реверберација од 1,5 s, односот на страните е 2,6 : 1,4 : 1 е вклучен звучен извор.\n",
    "- а) колку пати во просек се рефлектира звукот во оваа просторија по исклучување на изворот пред нивото да падне за 30 dB?\n",
    "- б) колку пати во просек се рефлектира звукот во оваа просторија по исклучување на изворот пред нивото да падне за 30 dB, ако двата најмали ѕида се покријат со апсорпционен материјал со $\\alpha = 0,8$?"
   ]
  },
  {
   "cell_type": "markdown",
   "metadata": {},
   "source": [
    "$ \\bar{l} = \\frac{4V}{S}$ - **средна должина на патеката на звучниот бран во просторијата**\n",
    "\n",
    "$ \\bar{n} = \\frac{c}{\\bar{l}} = \\frac{cS}{4V}$ - **просечен број на одбивања во секунда**"
   ]
  },
  {
   "cell_type": "code",
   "execution_count": 5,
   "metadata": {},
   "outputs": [
    {
     "name": "stdout",
     "output_type": "stream",
     "text": [
      "17.961115354149207 9.671369806080342 6.908121290057387\n"
     ]
    }
   ],
   "source": [
    "# lx : ly : lz = 2.6 : 1.4 : 1\n",
    "V = 1200  # m3\n",
    "# 2.6 * 1.4 * lz**3 = V\n",
    "lz = (V / (2.6 * 1.4)) ** (1/3)  # m\n",
    "lx = 2.6 * lz  # m\n",
    "ly = 1.4 * lz  # m\n",
    "print(lx, ly, lz)"
   ]
  },
  {
   "cell_type": "code",
   "execution_count": 6,
   "metadata": {},
   "outputs": [
    {
     "name": "stdout",
     "output_type": "stream",
     "text": [
      "729.1942955044425\n"
     ]
    }
   ],
   "source": [
    "S = 2*lx*ly + 2*ly*lz + 2*lx*lz\n",
    "print(S)"
   ]
  },
  {
   "cell_type": "code",
   "execution_count": 7,
   "metadata": {},
   "outputs": [
    {
     "name": "stdout",
     "output_type": "stream",
     "text": [
      "52.10700903292162\n"
     ]
    }
   ],
   "source": [
    "c = 343  # m/s\n",
    "n = c*S / (4*V)\n",
    "print(n)"
   ]
  },
  {
   "cell_type": "code",
   "execution_count": 8,
   "metadata": {},
   "outputs": [
    {
     "name": "stdout",
     "output_type": "stream",
     "text": [
      "39.080256774691215\n",
      "78.16051354938243\n"
     ]
    }
   ],
   "source": [
    "T60 = 1.5  # s\n",
    "T30 = T60 / 2  # s\n",
    "n30 = n * T30\n",
    "print(n30)\n",
    "n60 = n * T60\n",
    "print(n60)"
   ]
  },
  {
   "cell_type": "markdown",
   "metadata": {},
   "source": [
    "- б)"
   ]
  },
  {
   "cell_type": "code",
   "execution_count": 9,
   "metadata": {},
   "outputs": [
    {
     "name": "stdout",
     "output_type": "stream",
     "text": [
      "0.17553620590442506\n"
     ]
    }
   ],
   "source": [
    "A = 0.16 * V / T60\n",
    "alpha_avg = A / S\n",
    "print(alpha_avg)"
   ]
  },
  {
   "cell_type": "code",
   "execution_count": 10,
   "metadata": {},
   "outputs": [
    {
     "name": "stdout",
     "output_type": "stream",
     "text": [
      "128.0 211.44209567604392\n"
     ]
    }
   ],
   "source": [
    "alpha_new = 0.8\n",
    "A2 = (S - 2*ly*lz) * alpha_avg + 2*ly*lz * alpha_new  # m2\n",
    "print(A, A2)"
   ]
  },
  {
   "cell_type": "code",
   "execution_count": 11,
   "metadata": {},
   "outputs": [
    {
     "name": "stdout",
     "output_type": "stream",
     "text": [
      "23.65788539489597\n",
      "47.31577078979194\n"
     ]
    }
   ],
   "source": [
    "T60_new = 0.16 * V / A2\n",
    "T30_new = T60_new / 2\n",
    "n30_new = n * T30_new\n",
    "print(n30_new)\n",
    "n60_new = n * T60_new\n",
    "print(n60_new)"
   ]
  },
  {
   "cell_type": "markdown",
   "metadata": {},
   "source": [
    "испитна 1. Во лабораторија со волумен од 90 m$^3$ и страни 6 х 5 х 3 m, работат N машини со одредено ниво на бучава. За намалување на бучавата лабораторијата бива поделена на 4 еднакви дела. Притоа просечниот коефициент на апсорпција останува непроменет. Да се пресмета промената на нивото на бучава."
   ]
  },
  {
   "cell_type": "code",
   "execution_count": 12,
   "metadata": {},
   "outputs": [
    {
     "name": "stdout",
     "output_type": "stream",
     "text": [
      "1.8293068358598665\n"
     ]
    }
   ],
   "source": [
    "lx1, ly1, lz = 6, 5, 3  # m\n",
    "V = 90  # m3\n",
    "S1 = 2*lx1*ly1 + 2*ly1*lz + 2*lx1*lz\n",
    "# A1 = S1 * alpha_avg\n",
    "# J1 = 4 * N * Pa / A1\n",
    "# J2 = 4 * N / 4 * Pa / A2\n",
    "lx2 = lx1 / 2\n",
    "ly2 = ly1 / 2\n",
    "S2 = 2*lx2*ly2 + 2*ly2*lz + 2*lx2*lz\n",
    "# A2 = S2 * alpha_avg\n",
    "# delta_L = 10 * np.log10(\n",
    "#     (4 * N * Pa / S1 * alpha_avg)\n",
    "#     / (4 * N / 4 * Pa / S2 * alpha_avg)\n",
    "#     )\n",
    "delta_L = 10 * np.log10(\n",
    "    (4 / S1)\n",
    "    / (1 / S2)\n",
    "    )\n",
    "print(delta_L)"
   ]
  },
  {
   "cell_type": "markdown",
   "metadata": {},
   "source": [
    "испит 2. Во една ИТ компанија има канцеларија со отворен план со димензии 12 х 7 х 5 m$^2$, во која се поместени 20 работни места со 20 инженери. Површината на вратата е 3,6 m$^2$, прозорците 40 m$^2$, ѕидовите се малтерисани а на подот има паркет. Коефициентот на апсорпција на паркетот е 0,18, малтерисаниот ѕид 0,02, прозорските стакла 0,04, вратата 0,13, а спуштениот плафон 0,1. Апсорпцијата на работната маса и инженерот е 1 m$^2$. Да се одреди:\n",
    "- а) Колкаво е времето на реверберација во просторијата?\n",
    "- б) Колкаво е нивото на звукот, ако еден инженер заедно со компјутерот, при тивка работа има звучна моќност од Pa = 13 $\\mu$W?\n",
    "- в) За колку ќе се намали времето на реверберација и нивото, ако малтерисаниот ѕид се покрие со апсорпционен материјал со просечен коефициент на апсорпција од 0,5?"
   ]
  },
  {
   "cell_type": "markdown",
   "metadata": {},
   "source": [
    "- а) Т = ? \n",
    "\n",
    "$ T = \\frac{0.16 V}{A}$\n",
    "\n",
    "$ A = \\sum_i A_i = \\sum_i S_i \\cdot \\alpha_i$"
   ]
  },
  {
   "cell_type": "code",
   "execution_count": 13,
   "metadata": {},
   "outputs": [
    {
     "name": "stdout",
     "output_type": "stream",
     "text": [
      "{'vrata': 3.6, 'prozor': 40, 'zid': 146.4, 'pod': 84, 'plafon': 84, 'inzener': 20}\n",
      "{'vrata': 0.468, 'prozor': 1.6, 'zid': 2.9280000000000004, 'pod': 15.12, 'plafon': 8.4, 'inzener': 20}\n",
      "48.516\n"
     ]
    }
   ],
   "source": [
    "V = 12 * 7 * 5  # m3\n",
    "Si = {\n",
    "    'vrata': 3.6,\n",
    "    'prozor': 40,\n",
    "    'zid': 12*5*2 + 7*5*2 - 3.6 - 40,\n",
    "    'pod': 12*7,\n",
    "    'plafon': 12*7,\n",
    "    'inzener': 20*1,\n",
    "    }\n",
    "alpha_i = {\n",
    "    'vrata': 0.13,\n",
    "    'prozor': 0.04,\n",
    "    'zid': 0.02,\n",
    "    'pod': 0.18,\n",
    "    'plafon': 0.1,\n",
    "    'inzener': 1,\n",
    "    }\n",
    "Ai = {}\n",
    "for kluc, S, alpha in zip(Si.keys(), Si.values(), alpha_i.values()):\n",
    "    Ai[kluc] = S * alpha\n",
    "\n",
    "print(Si)\n",
    "print(Ai)\n",
    "A = sum(Ai.values())\n",
    "print(A)"
   ]
  },
  {
   "cell_type": "code",
   "execution_count": 14,
   "metadata": {},
   "outputs": [
    {
     "name": "stdout",
     "output_type": "stream",
     "text": [
      "1.3851100667820926\n"
     ]
    }
   ],
   "source": [
    "T = 0.16 * V / A\n",
    "print(T)"
   ]
  },
  {
   "cell_type": "markdown",
   "metadata": {},
   "source": [
    "- б) L = ?"
   ]
  },
  {
   "cell_type": "code",
   "execution_count": 15,
   "metadata": {},
   "outputs": [
    {
     "name": "stdout",
     "output_type": "stream",
     "text": [
      "73.31148351917481\n"
     ]
    }
   ],
   "source": [
    "Pa = 13e-6  # W\n",
    "J0 = 1e-12  # W/m2\n",
    "L = 10*np.log10((4*20*Pa/A) / J0)\n",
    "print(L)"
   ]
  },
  {
   "cell_type": "markdown",
   "metadata": {},
   "source": [
    "- в) T2 = ?, L2 = ?"
   ]
  },
  {
   "cell_type": "code",
   "execution_count": 16,
   "metadata": {},
   "outputs": [
    {
     "name": "stdout",
     "output_type": "stream",
     "text": [
      "{'vrata': 0.468, 'prozor': 1.6, 'zid': 73.2, 'pod': 15.12, 'plafon': 8.4, 'inzener': 20}\n",
      "118.78800000000001\n",
      "0.5657137084553995\n",
      "69.42260768998801\n"
     ]
    }
   ],
   "source": [
    "alpha_i2 = alpha_i.copy()\n",
    "Ai2 = Ai.copy()\n",
    "alpha_i2['zid'] = 0.5\n",
    "Ai2['zid'] = Si['zid'] * alpha_i2['zid']\n",
    "print(Ai2)\n",
    "A2 = sum(Ai2.values())\n",
    "print(A2)\n",
    "T2 = 0.16 * V / A2\n",
    "print(T2)\n",
    "L2 = 10*np.log10((4*20*Pa/A2) / J0)\n",
    "print(L2)"
   ]
  }
 ],
 "metadata": {
  "kernelspec": {
   "display_name": "Python 3 (ipykernel)",
   "language": "python",
   "name": "python3"
  },
  "language_info": {
   "codemirror_mode": {
    "name": "ipython",
    "version": 3
   },
   "file_extension": ".py",
   "mimetype": "text/x-python",
   "name": "python",
   "nbconvert_exporter": "python",
   "pygments_lexer": "ipython3",
   "version": "3.9.13"
  }
 },
 "nbformat": 4,
 "nbformat_minor": 4
}
