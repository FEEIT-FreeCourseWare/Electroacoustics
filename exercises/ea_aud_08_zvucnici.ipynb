{
 "cells": [
  {
   "cell_type": "markdown",
   "metadata": {},
   "source": [
    "# Аудиториски вежби 8\n",
    "## Звучници"
   ]
  },
  {
   "cell_type": "markdown",
   "metadata": {},
   "source": [
    "(6.1) Звучник има ефикасност од 1 Pa/$\\sqrt{\\text{W}}$ и номинална моќност од 10 W. Да се пресмета максималното ниво на звукот кој овој звучник може да го произведе во слободен простор на растојание од 3 m."
   ]
  },
  {
   "cell_type": "markdown",
   "metadata": {},
   "source": [
    "$ e = \\frac{p}{\\sqrt{P}} $ - ефикасност на звучник\n",
    "\n",
    "$ L = 20 \\log \\frac{p}{p_0} $"
   ]
  },
  {
   "cell_type": "code",
   "execution_count": 1,
   "metadata": {},
   "outputs": [
    {
     "name": "stdout",
     "output_type": "stream",
     "text": [
      "p =  3.1622776601683795 Pa на 1 m\n",
      "L = 103.97940008672037 dB\n"
     ]
    }
   ],
   "source": [
    "import numpy as np\n",
    "\n",
    "e = 1  # Pa/W^1/2\n",
    "P = 10  # W\n",
    "p = e * np.sqrt(P)\n",
    "print(\"p = \", p, \"Pa на 1 m\")\n",
    "\n",
    "p0 = 2e-5  # Pa - праг на чујност\n",
    "L = 20 * np.log10(p / p0)  # dB\n",
    "print(\"L =\", L, \"dB\")"
   ]
  },
  {
   "cell_type": "markdown",
   "metadata": {},
   "source": [
    "Звучникот и покрај тоа што има мала номинална моќност од 10 W, поради високата ефикасност, развива над 100 dB што одговара на ниво на звук во дискотеки."
   ]
  },
  {
   "cell_type": "markdown",
   "metadata": {},
   "source": [
    "$pr = const$\n",
    "\n",
    "$ \\Delta L = 20 \\log \\frac{p_3}{p_1} = 20 \\log \\frac{ p_1 \\cdot r_1 / r_3}{p_1} = 20 \\log \\frac{r_1}{r_3}$"
   ]
  },
  {
   "cell_type": "code",
   "execution_count": 2,
   "metadata": {},
   "outputs": [
    {
     "name": "stdout",
     "output_type": "stream",
     "text": [
      "L =  94.43697499232712 dB на 3 m\n"
     ]
    }
   ],
   "source": [
    "dL = 20 * np.log10(3 / 1)\n",
    "L3 = L - dL\n",
    "print(\"L = \", L3, \"dB на 3 m\")"
   ]
  },
  {
   "cell_type": "markdown",
   "metadata": {},
   "source": [
    "(6.1) Звучник има ефикасност од 1,5 Pa/$\\sqrt{\\text{W}}$ и индекс на насоченост од 4 dB. Да се пресмета акустичката моќност на звучникот при електрична моќност од 3 W. Да се пресмета степенот на искористување на звучникот."
   ]
  },
  {
   "cell_type": "markdown",
   "metadata": {},
   "source": [
    "$ p = e \\sqrt{P}$\n",
    "\n",
    "$ J = \\frac{p^2}{\\rho c} = \\frac{P_a}{\\Omega_z r^2} = \\frac{\\gamma P_a}{4\\pi r^2}$\n",
    "\n",
    "$ P_a = \\frac{4\\pi r^2 p^2}{\\gamma \\rho c} $\n",
    "\n",
    "$ \\eta = \\frac{P_a}{P} $  - ефикасност"
   ]
  },
  {
   "cell_type": "code",
   "execution_count": 3,
   "metadata": {},
   "outputs": [
    {
     "name": "stdout",
     "output_type": "stream",
     "text": [
      "0.08156677580558384 W\n",
      "2.718892526852795 %\n"
     ]
    }
   ],
   "source": [
    "e = 1.5  # P/W^1/2\n",
    "P = 3  # W\n",
    "gamma_dB = 4\n",
    "r = 1  # m\n",
    "rho_c = 414\n",
    "\n",
    "p = e * np.sqrt(P)\n",
    "gamma = 10 ** (gamma_dB / 10)\n",
    "Pa = 4 * np.pi * r**2 * p**2 / (gamma * rho_c)\n",
    "print(Pa, \"W\")\n",
    "\n",
    "eta = Pa / P\n",
    "print(eta * 100, \"%\")"
   ]
  }
 ],
 "metadata": {
  "kernelspec": {
   "display_name": "Python 3 (ipykernel)",
   "language": "python",
   "name": "python3"
  },
  "language_info": {
   "codemirror_mode": {
    "name": "ipython",
    "version": 3
   },
   "file_extension": ".py",
   "mimetype": "text/x-python",
   "name": "python",
   "nbconvert_exporter": "python",
   "pygments_lexer": "ipython3",
   "version": "3.9.13"
  }
 },
 "nbformat": 4,
 "nbformat_minor": 4
}
