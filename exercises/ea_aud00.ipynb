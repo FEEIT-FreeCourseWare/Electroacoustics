{
 "cells": [
  {
   "cell_type": "markdown",
   "id": "24be382f",
   "metadata": {},
   "source": [
    "# Електроакустика\n",
    "## Аудиториски вежби 00"
   ]
  },
  {
   "cell_type": "markdown",
   "id": "7f8d93b4",
   "metadata": {},
   "source": [
    "1. Колку изнесува брзината на простирање на звукот при  θ = 40°C и θ = 20°C?"
   ]
  },
  {
   "cell_type": "code",
   "execution_count": 2,
   "id": "d24c56f9",
   "metadata": {},
   "outputs": [
    {
     "name": "stdout",
     "output_type": "stream",
     "text": [
      "343.3246537542241  m/s\n"
     ]
    }
   ],
   "source": [
    "import numpy as np\n",
    "c0 = 331.4 \n",
    "T = 20  # celsius\n",
    "c = c0 * np.sqrt((T + 273) / 273)\n",
    "print(c, ' m/s')"
   ]
  },
  {
   "cell_type": "code",
   "execution_count": 3,
   "id": "6b2a9451",
   "metadata": {},
   "outputs": [
    {
     "name": "stdout",
     "output_type": "stream",
     "text": [
      "354.8488068895198  m/s\n"
     ]
    }
   ],
   "source": [
    "T = 40  # celsius\n",
    "c = c0 * np.sqrt((T + 273) / 273)\n",
    "print(c, ' m/s')"
   ]
  },
  {
   "cell_type": "markdown",
   "id": "b35cd350",
   "metadata": {},
   "source": [
    "2. Да се пресмета брановата должина на акустичките бранови за температура на амбиентот T = 20°C и фреквенција од 20, 100, 200, 1000, 2000, 10000, 20000 Hz. "
   ]
  },
  {
   "cell_type": "markdown",
   "id": "4c5d79d7",
   "metadata": {},
   "source": [
    "$\\lambda = \\frac{c}{f}$"
   ]
  },
  {
   "cell_type": "code",
   "execution_count": 4,
   "id": "7a451cfe",
   "metadata": {},
   "outputs": [
    {
     "name": "stdout",
     "output_type": "stream",
     "text": [
      "17.15  m\n"
     ]
    }
   ],
   "source": [
    "c = 343  # m/s за 20 C\n",
    "f = 20\n",
    "lam = c / f\n",
    "print(lam, ' m')"
   ]
  },
  {
   "cell_type": "code",
   "execution_count": 14,
   "id": "93a31185",
   "metadata": {},
   "outputs": [
    {
     "name": "stdout",
     "output_type": "stream",
     "text": [
      "20 Hz -> 17.15 m\n",
      "100 Hz -> 3.43 m\n",
      "200 Hz -> 1.715 m\n",
      "1000 Hz -> 0.343 m\n",
      "2000 Hz -> 0.1715 m\n",
      "10000.0 Hz -> 0.0343 m\n",
      "20000.0 Hz -> 0.01715 m\n"
     ]
    }
   ],
   "source": [
    "fs = [20, 100, 200, 1000, 2000, 1e4, 2e4]\n",
    "# fs = np.array([20, 100, 200, 1000, 2000, 1e4, 2e4], dtype='int')\n",
    "for f in fs:\n",
    "    lam = c / f\n",
    "    # print(f, 'Hz ->', lam, 'm')\n",
    "    print(f'{f} Hz -> {lam} m')\n",
    "    "
   ]
  },
  {
   "cell_type": "markdown",
   "id": "eb12d582",
   "metadata": {},
   "source": [
    "3. Да се пресмета брзината и придвижувањето на воздушните честички за:\n",
    "- а) звучен притисок од 0,1 и 1 Pa.\n",
    "- б) фреквенција од 20 Hz, 1 kHz, 20 kHz за 0,1 Pa."
   ]
  },
  {
   "cell_type": "markdown",
   "id": "b2352828",
   "metadata": {},
   "source": [
    "$ v = \\frac{p}{\\rho c}$\n",
    "\n",
    "$ \\xi = \\frac{v}{\\omega} = \\frac{v}{2\\pi f} $\n",
    "\n",
    "$ \\rho c = 414 $ [kg / m2 s]"
   ]
  },
  {
   "cell_type": "code",
   "execution_count": 20,
   "id": "e4376e22",
   "metadata": {},
   "outputs": [
    {
     "name": "stdout",
     "output_type": "stream",
     "text": [
      "a) 0.00024154589371980678 m/s\n",
      "б) 0.0024154589371980675 m/s\n",
      "140760.0\n",
      "б) 0.008695652173913044 km/h\n"
     ]
    }
   ],
   "source": [
    "# a)\n",
    "rc = 414  # kg/m2s\n",
    "p = 0.1  # Pa\n",
    "v = p / rc\n",
    "print('a)', v, 'm/s')\n",
    "\n",
    "p = 1  # Pa - ниво на кршач на бетон\n",
    "v = p / rc\n",
    "print('б)', v, 'm/s')\n",
    "print(340 / v)\n",
    "print('б)', v * 3.6, 'km/h')"
   ]
  },
  {
   "cell_type": "code",
   "execution_count": 23,
   "id": "202efd19",
   "metadata": {},
   "outputs": [
    {
     "name": "stdout",
     "output_type": "stream",
     "text": [
      "20 Hz -> 3.844322296905685e-10 m\n",
      "1000.0 Hz -> 7.68864459381137e-12 m\n",
      "20000.0 Hz -> 3.844322296905685e-13 m\n"
     ]
    }
   ],
   "source": [
    "# б)\n",
    "# p = 0.1  # Pa\n",
    "p = 2e-5  # Pa - праг на чујност\n",
    "v = p / rc\n",
    "fs = [20, 1e3, 20e3]\n",
    "for f in fs:\n",
    "    xi = v / (2*np.pi*f)\n",
    "    print(f'{f} Hz -> {xi} m')"
   ]
  },
  {
   "cell_type": "markdown",
   "id": "2aaff91e",
   "metadata": {},
   "source": [
    "4. На растојание $r_1 = 1$ m од топчест звучен извор со радиус 3 cm и фреквенција на осцилирање од 100 Hz, измерен е притисок $p_{1 max} = 2$ Pa. Колкав е интензитетот на звукот $J$, притисокот $p$ и брзината на воздушните честички $v$ за:\n",
    "- а) истото растојание,\n",
    "- б) растојание $r_2 = 10 $m\n",
    "- в) на површината на изворот."
   ]
  },
  {
   "cell_type": "markdown",
   "id": "3df55b3d",
   "metadata": {},
   "source": [
    "$p = \\frac{p_{max}}{\\sqrt{2}}$\n",
    "\n",
    "$ J = \\frac{p^2}{\\rho c}$\n"
   ]
  },
  {
   "cell_type": "code",
   "execution_count": 2,
   "id": "ac5601e7",
   "metadata": {},
   "outputs": [
    {
     "data": {
      "text/plain": [
       "1.414213562373095"
      ]
     },
     "execution_count": 2,
     "metadata": {},
     "output_type": "execute_result"
    }
   ],
   "source": [
    "import numpy as np\n",
    "\n",
    "p1_max = 2  # Pa\n",
    "p1 = p1_max / np.sqrt(2)\n",
    "p1"
   ]
  },
  {
   "cell_type": "code",
   "execution_count": 4,
   "id": "17486e30",
   "metadata": {},
   "outputs": [
    {
     "data": {
      "text/plain": [
       "0.004830917874396134"
      ]
     },
     "execution_count": 4,
     "metadata": {},
     "output_type": "execute_result"
    }
   ],
   "source": [
    "rhoc = 414  # kg / m2 s\n",
    "J1 = p1**2 / rhoc  # W / m2\n",
    "J1"
   ]
  },
  {
   "cell_type": "code",
   "execution_count": 8,
   "id": "8d63922c",
   "metadata": {},
   "outputs": [
    {
     "name": "stdout",
     "output_type": "stream",
     "text": [
      "3.43 m\n",
      "0.8777306192202436\n"
     ]
    },
    {
     "data": {
      "text/plain": [
       "0.0038918259355877147"
      ]
     },
     "execution_count": 8,
     "metadata": {},
     "output_type": "execute_result"
    }
   ],
   "source": [
    "c = 343  # m/s\n",
    "f = 100  # Hz\n",
    "lamda = c / f\n",
    "print(lamda, 'm')\n",
    "k = 2 * np.pi / lamda\n",
    "r1 = 1  # m\n",
    "cos_phi = k*r1 / np.sqrt(1 + k**2 * r1**2)\n",
    "print(cos_phi)\n",
    "Zs1 = rhoc * cos_phi\n",
    "v1 = p1 / Zs1\n",
    "v1"
   ]
  },
  {
   "cell_type": "markdown",
   "id": "8b05b3c8",
   "metadata": {},
   "source": [
    "$ pr = const$\n",
    "\n",
    "$ p_2 r_2 = p_1 r_1$"
   ]
  },
  {
   "cell_type": "code",
   "execution_count": 10,
   "id": "1d035890",
   "metadata": {},
   "outputs": [
    {
     "name": "stdout",
     "output_type": "stream",
     "text": [
      "0.1414213562373095 Pa\n"
     ]
    }
   ],
   "source": [
    "# б) на 10 m\n",
    "r2 = 10  # m\n",
    "p2 = p1 * r1 / r2  # Pa\n",
    "print(p2, 'Pa')"
   ]
  },
  {
   "cell_type": "code",
   "execution_count": 14,
   "id": "bcdbedc8",
   "metadata": {},
   "outputs": [
    {
     "name": "stdout",
     "output_type": "stream",
     "text": [
      "4.830917874396135e-05 W / m2\n",
      "0.9985132800968506\n",
      "0.0003415974788340809 m/s\n"
     ]
    }
   ],
   "source": [
    "J2 = p2**2 / rhoc  # W / m2\n",
    "print(J2, 'W / m2')\n",
    "cos_phi2 = k*r2 / np.sqrt(1 + k**2 * r2**2)\n",
    "print(cos_phi2)\n",
    "Zs2 = rhoc  # * cos_phi2 - ramninski bran\n",
    "v2 = p2 / Zs2\n",
    "print(v2, 'm/s')"
   ]
  },
  {
   "cell_type": "code",
   "execution_count": 15,
   "id": "9f83af45",
   "metadata": {},
   "outputs": [
    {
     "name": "stdout",
     "output_type": "stream",
     "text": [
      "47.14045207910316 Pa\n"
     ]
    }
   ],
   "source": [
    "# в) на 3 cm\n",
    "r3 = 0.03  # m\n",
    "p3 = p1 * r1 / r3  # Pa\n",
    "print(p3, 'Pa')"
   ]
  },
  {
   "cell_type": "code",
   "execution_count": 16,
   "id": "005fb4be",
   "metadata": {},
   "outputs": [
    {
     "name": "stdout",
     "output_type": "stream",
     "text": [
      "5.367686527106816 W / m2\n",
      "0.05487217766113899\n"
     ]
    }
   ],
   "source": [
    "J3 = p3**2 / rhoc  # W / m2\n",
    "print(J3, 'W / m2')\n",
    "cos_phi3 = k*r3 / np.sqrt(1 + k**2 * r3**2)\n",
    "print(cos_phi3)"
   ]
  },
  {
   "cell_type": "code",
   "execution_count": 17,
   "id": "0519c852",
   "metadata": {
    "jupyter": {
     "source_hidden": true
    },
    "tags": []
   },
   "outputs": [
    {
     "name": "stdout",
     "output_type": "stream",
     "text": [
      "2.0751103953118273 m/s\n"
     ]
    }
   ],
   "source": [
    "Zs3 = rhoc  * cos_phi3\n",
    "v3 = p3 / Zs3\n",
    "print(v3, 'm/s')"
   ]
  }
 ],
 "metadata": {
  "kernelspec": {
   "display_name": "Python 3",
   "language": "python",
   "name": "python3"
  },
  "language_info": {
   "codemirror_mode": {
    "name": "ipython",
    "version": 3
   },
   "file_extension": ".py",
   "mimetype": "text/x-python",
   "name": "python",
   "nbconvert_exporter": "python",
   "pygments_lexer": "ipython3",
   "version": "3.6.13"
  }
 },
 "nbformat": 4,
 "nbformat_minor": 5
}
