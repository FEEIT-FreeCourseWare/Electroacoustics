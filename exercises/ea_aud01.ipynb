{
 "cells": [
  {
   "cell_type": "markdown",
   "id": "4a9ac3d0",
   "metadata": {},
   "source": [
    "# Аудиториски 01"
   ]
  },
  {
   "cell_type": "markdown",
   "id": "ae4360c1",
   "metadata": {},
   "source": [
    "1. (1.10) Сферен извор на звук со $r_0$ од 1 cm, емитува звук во слободен простор со $f$ од 50 Hz. Колкав е теорискиот максимален звучен притисок, a колкава е максималната вредност на ефективниот звучен притисок, којшто може да го создаде на 50 cm?"
   ]
  },
  {
   "cell_type": "code",
   "execution_count": 9,
   "id": "5668cbf1",
   "metadata": {},
   "outputs": [
    {
     "name": "stdout",
     "output_type": "stream",
     "text": [
      "11.912084094361056  Pa\n",
      "0.2382416818872211  Pa\n",
      "0.1684623088237423  Pa\n"
     ]
    }
   ],
   "source": [
    "r_0 = 0.01  # m\n",
    "f = 50  # Hz\n",
    "r = 0.5  # m\n",
    "c = 343  # m/s\n",
    "rhoc = 414  # kg/sm2\n",
    "# p_max = ?\n",
    "ksi_0max = r_0  # m\n",
    "omega = 2 * np.pi * f  #s-1\n",
    "v_0max = omega * ksi_0max  # m/s\n",
    "k = omega / c  # m-1\n",
    "cosphi = k*r_0 / np.sqrt(1 + k**2 * r_0**2)\n",
    "Zs = rhoc * cosphi  # kg/sm2\n",
    "p_0max = Zs * v_0max  # Pa\n",
    "print(p_0max, ' Pa')\n",
    "\n",
    "# pr = const\n",
    "p_max = r_0 / r * p_0max\n",
    "print(p_max, ' Pa')\n",
    "p = p_max / np.sqrt(2)\n",
    "print(p, ' Pa')"
   ]
  },
  {
   "cell_type": "markdown",
   "id": "09f601b3",
   "metadata": {},
   "source": [
    "2. (1.4) Во бесконечна цевка со идеално глатки ѕидови се наоѓа клип на кој делува сила $F$. Колкаво треба да е $F$ за во цевката да се создаде звучен притисок од 0,1 Pa, ако пресекот на цевката има површина $S$ од 5 cm$^2$?  Да се занемари импедансата на зрачење. Колкава е потребната моќност?"
   ]
  },
  {
   "cell_type": "code",
   "execution_count": 10,
   "id": "cb856fcb",
   "metadata": {},
   "outputs": [
    {
     "name": "stdout",
     "output_type": "stream",
     "text": [
      "5e-05  N\n",
      "0.00024154589371980678  m/s\n",
      "1.207729468599034e-08  W\n"
     ]
    }
   ],
   "source": [
    "S = 5 * (0.01)**2  # m2\n",
    "p = 0.1  # Pa\n",
    "F = p * S  # N\n",
    "print(F, ' N')\n",
    "\n",
    "rhoc = 414  # Kg/sm2\n",
    "v = p / rhoc  # m/s\n",
    "print(v, ' m/s')\n",
    "P = F * v  # W\n",
    "print(P, ' W')"
   ]
  },
  {
   "cell_type": "markdown",
   "id": "e0eea540",
   "metadata": {},
   "source": [
    "3. (1.11) Звучник со мембрана од 10\" е вграден во бесконечно голема крута плоча. На растојание од 1 m создава притисок од 2 Pa на фреквенција од 50 Hz. Да се пресмета поместувањето на мембраната."
   ]
  },
  {
   "attachments": {
    "0f36eee5-9c54-4137-b259-be921775680e.png": {
     "image/png": "[encoded data removed]"
    }
   },
   "cell_type": "markdown",
   "id": "18f343b6",
   "metadata": {},
   "source": [
    "\n",
    "![image.png](attachment:0f36eee5-9c54-4137-b259-be921775680e.png)"
   ]
  },
  {
   "cell_type": "markdown",
   "id": "526df072",
   "metadata": {},
   "source": [
    "$ J = \\frac{p^2}{\\rho c} = \\frac{P_a}{\\Omega_z r^2}$"
   ]
  },
  {
   "cell_type": "markdown",
   "id": "76f8c7d7",
   "metadata": {},
   "source": [
    "$ P_a = \\frac{p^2 \\Omega_z r^2}{\\rho c}$"
   ]
  },
  {
   "cell_type": "markdown",
   "id": "c97470bc",
   "metadata": {},
   "source": [
    "$P_a = q^2 R_{a0} $"
   ]
  },
  {
   "cell_type": "markdown",
   "id": "28e0c857",
   "metadata": {},
   "source": [
    "$ R_{a0} = \\frac{\\rho c k^2}{\\Omega_z} $ - **точекст извор!**"
   ]
  },
  {
   "cell_type": "markdown",
   "id": "8b9beab4",
   "metadata": {},
   "source": [
    "$v = \\frac{q}{S}$\n",
    "\n",
    "$\\xi = \\frac{v}{\\omega}$"
   ]
  },
  {
   "cell_type": "code",
   "execution_count": 1,
   "id": "08283180",
   "metadata": {},
   "outputs": [
    {
     "name": "stdout",
     "output_type": "stream",
     "text": [
      "0.06070710441719407 W\n"
     ]
    }
   ],
   "source": [
    "import numpy as np\n",
    "p = 2  # Pa\n",
    "r = 1  # m\n",
    "omega_z = 2 * np.pi\n",
    "rho_c = 414  # kg / m2 s\n",
    "Pa = p**2 * omega_z * r**2 / rho_c\n",
    "print(Pa, 'W')"
   ]
  },
  {
   "cell_type": "code",
   "execution_count": 5,
   "id": "f8a13b9e",
   "metadata": {
    "tags": []
   },
   "outputs": [
    {
     "name": "stdout",
     "output_type": "stream",
     "text": [
      "6.86 m << 25 cm -> точкест извор\n"
     ]
    }
   ],
   "source": [
    "# проверка дали имаме точкест извор\n",
    "c = 343  # m/s\n",
    "f = 50  # Hz\n",
    "lamda = c / f\n",
    "print(lamda, 'm << 25 cm -> точкест извор')\n"
   ]
  },
  {
   "cell_type": "code",
   "execution_count": 6,
   "id": "5314b247",
   "metadata": {},
   "outputs": [
    {
     "name": "stdout",
     "output_type": "stream",
     "text": [
      "0.03314009661835749 m3/s\n"
     ]
    }
   ],
   "source": [
    "k = 2 * np.pi / lamda  # m-1\n",
    "Ra0 = rho_c * k**2 / omega_z  # kg / m3 s - SI units\n",
    "q = np.sqrt(Pa / Ra0)\n",
    "print(q, 'm3/s')"
   ]
  },
  {
   "cell_type": "code",
   "execution_count": 10,
   "id": "765343bf",
   "metadata": {},
   "outputs": [
    {
     "name": "stdout",
     "output_type": "stream",
     "text": [
      "0.254 m\n",
      "0.05067074790974978 m2\n",
      "0.6540281717843138 m/s\n"
     ]
    }
   ],
   "source": [
    "d = 10  # inch\n",
    "d = d * 2.54  # cm\n",
    "d = d / 100  # m\n",
    "print(d, 'm')\n",
    "S = np.pi * (d/2)**2\n",
    "print(S, 'm2')\n",
    "v = q / S\n",
    "print(v, 'm/s')"
   ]
  },
  {
   "cell_type": "code",
   "execution_count": 9,
   "id": "328fa234",
   "metadata": {},
   "outputs": [
    {
     "name": "stdout",
     "output_type": "stream",
     "text": [
      "0.0020818363292165764 m\n"
     ]
    }
   ],
   "source": [
    "xi = v / (2 * np.pi * f)  # m\n",
    "print(xi, 'm')"
   ]
  },
  {
   "cell_type": "markdown",
   "id": "acb27b5b",
   "metadata": {},
   "source": [
    "4. (1.12 + 1.13)  Точкест звучен извор емитува звук во слободен простор. Да се пресмета колку ќе се промени $p$ ако изворот се премести:\n",
    "- а) непосредно до ѕид,\n",
    "- б) на спој на два ѕида,\n",
    "- в) на спој на три ѕида.\n",
    "\n",
    "Под услов изворот да:\n",
    "- 1) генерира константен проток $q$,\n",
    "- 2) да работи со константна моќност $P_a$.\n"
   ]
  },
  {
   "cell_type": "markdown",
   "id": "6ebb734c",
   "metadata": {},
   "source": [
    "$ J = \\frac{p^2}{\\rho c} = \\frac{P_a}{\\Omega_z r^2}  \\rightarrow \\frac{p'}{p} = \\sqrt{\\frac{\\Omega_z}{\\Omega_z'}}$ - за константна $P_a$\n",
    "\n",
    "$ P_a = q^2 \\frac{\\rho c k^2}{\\Omega_z}  \\rightarrow \\frac{p^2}{\\rho c} = \\frac{q^2 \\frac{\\rho c k^2}{\\Omega_z}}{\\Omega_z r^2}$"
   ]
  },
  {
   "cell_type": "markdown",
   "id": "09c4ce2b",
   "metadata": {},
   "source": [
    "$ \\frac{p'}{p} = \\frac{\\Omega_z}{\\Omega_z'}$"
   ]
  },
  {
   "cell_type": "code",
   "execution_count": 12,
   "id": "93ef6a34",
   "metadata": {},
   "outputs": [
    {
     "name": "stdout",
     "output_type": "stream",
     "text": [
      "a 1.4142135623730951 2.0\n",
      "b 2.0 4.0\n",
      "v 2.8284271247461903 8.0\n"
     ]
    }
   ],
   "source": [
    "import numpy as np\n",
    "\n",
    "Omega_z0 = 4 * np.pi\n",
    "# a\n",
    "Omega_z1 = 2 * np.pi\n",
    "p1_p0_1 = np.sqrt(Omega_z0 / Omega_z1)  # konstantna Pa\n",
    "p1_p0_2 = Omega_z0 / Omega_z1  # konstanten protok\n",
    "print('a', p1_p0_1, p1_p0_2)\n",
    "\n",
    "# b\n",
    "Omega_z2 = np.pi\n",
    "p2_p0_1 = np.sqrt(Omega_z0 / Omega_z2)  # konstantna Pa\n",
    "p2_p0_2 = Omega_z0 / Omega_z2  # konstanten protok\n",
    "print('b', p2_p0_1, p2_p0_2)\n",
    "\n",
    "\n",
    "# v\n",
    "Omega_z3 = np.pi / 2\n",
    "p3_p0_1 = np.sqrt(Omega_z0 / Omega_z3)  # konstantna Pa\n",
    "p3_p0_2 = Omega_z0 / Omega_z3  # konstanten protok\n",
    "print('v', p3_p0_1, p3_p0_2)"
   ]
  },
  {
   "cell_type": "markdown",
   "id": "61521a6a",
   "metadata": {},
   "source": [
    "5. (1.14) **За дома** - Да се пресмета просторен агол на зрачење и коефициент на насоченост на кардиода.\n",
    "\n",
    "$ \\Gamma = \\frac{1 + \\cos \\theta}{2}$\n",
    "\n",
    "$ \\Omega_z = \\int_0^{4\\pi} \\Gamma^2 d\\Omega = \\frac{4}{3}\\pi$\n",
    "\n",
    "$ \\gamma = \\frac{4\\pi}{\\Omega_z} = 3 $"
   ]
  }
 ],
 "metadata": {
  "kernelspec": {
   "display_name": "Python 3",
   "language": "python",
   "name": "python3"
  },
  "language_info": {
   "codemirror_mode": {
    "name": "ipython",
    "version": 3
   },
   "file_extension": ".py",
   "mimetype": "text/x-python",
   "name": "python",
   "nbconvert_exporter": "python",
   "pygments_lexer": "ipython3",
   "version": "3.6.13"
  }
 },
 "nbformat": 4,
 "nbformat_minor": 5
}
