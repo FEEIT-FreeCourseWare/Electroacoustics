{
 "cells": [
  {
   "cell_type": "markdown",
   "id": "7088dac5",
   "metadata": {},
   "source": [
    "# Аудиториски вежби 3"
   ]
  },
  {
   "cell_type": "markdown",
   "id": "25e2e53e",
   "metadata": {},
   "source": [
    "1.32 Еден точекст извор во слободен простор на растојание од 5 m создава ниво од 120 dB. Да се пресмета на кое растојание сеуште може да се слушне изворот ако:\n",
    "- а) ја занемариме дисипацијата во воздухот\n",
    "- б) ако дисипацијата е 1 dB на 100 m"
   ]
  },
  {
   "cell_type": "markdown",
   "id": "f343f87b",
   "metadata": {},
   "source": [
    "$\\Delta L = 20 \\log \\frac{r}{r_0} + 4.34m (r-r_0)$"
   ]
  },
  {
   "cell_type": "code",
   "execution_count": 2,
   "id": "ed4f1a58",
   "metadata": {},
   "outputs": [
    {
     "name": "stdout",
     "output_type": "stream",
     "text": [
      "5000000.0 m\n",
      "5000.0 km\n"
     ]
    }
   ],
   "source": [
    "import numpy as np\n",
    "\n",
    "# a) bez disipacija\n",
    "dL = 120  # dB\n",
    "r0 = 5  # m\n",
    "r = r0 * 10**(dL / 20)\n",
    "print(r, 'm')\n",
    "print(r/1000, 'km')"
   ]
  },
  {
   "cell_type": "code",
   "execution_count": 4,
   "id": "1534875c",
   "metadata": {},
   "outputs": [
    {
     "name": "stdout",
     "output_type": "stream",
     "text": [
      "5866 m\n",
      "5.866 km\n",
      "Ellipsis\n"
     ]
    }
   ],
   "source": [
    "import numpy as np\n",
    "\n",
    "# b) so disipacija\n",
    "dL = 120  # dB\n",
    "r0 = 5  # m\n",
    "dL = ...\n",
    "r = 5866  # m\n",
    "print(r, 'm')\n",
    "print(r/1000, 'km')\n",
    "print(dL)"
   ]
  },
  {
   "cell_type": "markdown",
   "id": "33c7be09",
   "metadata": {},
   "source": [
    "1.33 Една сирена може да емитува звук на фреквенција од 1 или 4 kHz. На 1,5 km треба да создаде ниво на звук од 80 dB. Да се пресмета потребното ниво на звук на 1 m од сирената за секоја од фреквенциите, ако е познато дека слабеењето на звукот на 1 kHz е 0,5 dB на 100 m, а на 4 kHz е 3 dB на 100 m."
   ]
  },
  {
   "cell_type": "code",
   "execution_count": 7,
   "id": "a41d9120",
   "metadata": {},
   "outputs": [
    {
     "name": "stdout",
     "output_type": "stream",
     "text": [
      "71.01682518111363 dB\n",
      "151.01682518111363 dB\n"
     ]
    }
   ],
   "source": [
    "import numpy as np\n",
    "\n",
    "# а) на 1 kHz\n",
    "r = 1500  # m\n",
    "r0 = 1  # m\n",
    "m1 = 0.5  # dB/100m\n",
    "dL = 20 * np.log10(r / r0) + m1 / 100 * (r - r0)\n",
    "print(dL, 'dB')\n",
    "\n",
    "spl = 80 + dL\n",
    "print(spl, 'dB')\n"
   ]
  },
  {
   "cell_type": "code",
   "execution_count": 8,
   "id": "84698567",
   "metadata": {},
   "outputs": [
    {
     "name": "stdout",
     "output_type": "stream",
     "text": [
      "108.49182518111363 dB\n",
      "188.49182518111363 dB\n"
     ]
    }
   ],
   "source": [
    "# б) на 4 kHz\n",
    "r = 1500  # m\n",
    "r0 = 1  # m\n",
    "m2 = 3  # dB/100m\n",
    "dL = 20 * np.log10(r / r0) + m2 / 100 * (r - r0)\n",
    "print(dL, 'dB')\n",
    "\n",
    "spl = 80 + dL\n",
    "print(spl, 'dB')"
   ]
  }
 ],
 "metadata": {
  "kernelspec": {
   "display_name": "Python 3",
   "language": "python",
   "name": "python3"
  },
  "language_info": {
   "codemirror_mode": {
    "name": "ipython",
    "version": 3
   },
   "file_extension": ".py",
   "mimetype": "text/x-python",
   "name": "python",
   "nbconvert_exporter": "python",
   "pygments_lexer": "ipython3",
   "version": "3.6.13"
  }
 },
 "nbformat": 4,
 "nbformat_minor": 5
}
