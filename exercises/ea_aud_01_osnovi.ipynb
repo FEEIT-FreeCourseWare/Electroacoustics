{
 "cells": [
  {
   "cell_type": "markdown",
   "metadata": {},
   "source": [
    "# Аудиториски вежби 1\n",
    "\n",
    "## Основи на физика на звук"
   ]
  },
  {
   "cell_type": "markdown",
   "metadata": {},
   "source": [
    "1. Колку изнесува брзината на простирање на звукот при  T = 40°C и T = 20°C?"
   ]
  },
  {
   "cell_type": "markdown",
   "metadata": {},
   "source": [
    "$ c = c_0 \\sqrt{\\frac{T}{T_0}} = c_0 (1 + \\frac{1}{2} \\frac{T}{273}) $ "
   ]
  },
  {
   "cell_type": "markdown",
   "metadata": {},
   "source": [
    "$ c_{40} = 331,22 + \\frac{1}{2} \\frac{313,15}{273,15} = ... $\n"
   ]
  },
  {
   "cell_type": "code",
   "execution_count": 1,
   "metadata": {},
   "outputs": [
    {
     "name": "stdout",
     "output_type": "stream",
     "text": [
      "354.6436257832055 m/s\n"
     ]
    }
   ],
   "source": [
    "import numpy as np\n",
    "\n",
    "c0 = 331.22\n",
    "T0 = 273.15\n",
    "T = 40 + T0\n",
    "c40 = c0 * np.sqrt(T / T0)\n",
    "print(c40, 'm/s')"
   ]
  },
  {
   "cell_type": "code",
   "execution_count": 2,
   "metadata": {},
   "outputs": [
    {
     "name": "stdout",
     "output_type": "stream",
     "text": [
      "343.13174562306114 m/s\n"
     ]
    }
   ],
   "source": [
    "import numpy as np\n",
    "\n",
    "c0 = 331.22\n",
    "T0 = 273.15\n",
    "T = 20 + T0\n",
    "c20 = c0 * np.sqrt(T / T0)\n",
    "print(c20, 'm/s')"
   ]
  },
  {
   "cell_type": "markdown",
   "metadata": {},
   "source": [
    "2. Да се пресмета брановата должина на акустичките бранови за температура на амбиентот T = 20°C за следните фреквенции: 20, 100, 200, 1 k, 2 k, 10 k, и 20 kHz!"
   ]
  },
  {
   "cell_type": "markdown",
   "metadata": {},
   "source": [
    "$ \\lambda = \\frac{c}{f} $"
   ]
  },
  {
   "cell_type": "code",
   "execution_count": 3,
   "metadata": {},
   "outputs": [
    {
     "name": "stdout",
     "output_type": "stream",
     "text": [
      "20 Hz -> 17.15 m\n",
      "100 Hz -> 3.43 m\n",
      "200 Hz -> 1.715 m\n",
      "1000 Hz -> 0.343 m\n",
      "2000 Hz -> 0.1715 m\n",
      "10000 Hz -> 0.0343 m\n",
      "20000 Hz -> 0.01715 m\n"
     ]
    }
   ],
   "source": [
    "c = 343  # m/s\n",
    "for f in [20, 100, 200, 1000, 2000, 10000, 20000]:\n",
    "    print(f, 'Hz ->', c/f, 'm')    "
   ]
  },
  {
   "cell_type": "markdown",
   "metadata": {},
   "source": [
    "3. Да се пресмета брзината на воздушните честички за:\n",
    "- a) звучен притисок од 0,1 Pa и 1 Pa.\n",
    "- б) и поместување за фреквенција од 20 Hz, 1 kHz, 20 kHz за 0,1 Pa."
   ]
  },
  {
   "cell_type": "markdown",
   "metadata": {},
   "source": [
    " $ v = \\frac{p}{\\rho c}$\n",
    " \n",
    " $ \\xi = \\frac{v}{\\omega} = \\frac{v}{2\\pi f} $\n",
    " \n",
    " $ \\rho c = 414 $ $\\frac{\\text{kg}}{\\text{m}^2 \\text{s}}$"
   ]
  },
  {
   "cell_type": "code",
   "execution_count": 4,
   "metadata": {},
   "outputs": [
    {
     "name": "stdout",
     "output_type": "stream",
     "text": [
      "0.00024154589371980678  m/s\n",
      "0.0008695652173913045  km/h\n",
      "0.0024154589371980675  m/s\n",
      "0.008695652173913044  km/h\n"
     ]
    }
   ],
   "source": [
    "# a\n",
    "# v = p / rho * c\n",
    "p1 = 0.1  # Pa  (60 - 80 dB ~ автомобил на 10m)\n",
    "rhoc = 414  # kg/sm2\n",
    "v1 = p1 / rhoc\n",
    "print(v1, ' m/s')\n",
    "print(v1 *  3600 / 1000, ' km/h')\n",
    "\n",
    "p2 = 1  # Pa  (100 dB ~ кршач на бетон)\n",
    "v2 = p2 / rhoc\n",
    "print(v2, ' m/s')\n",
    "print(v2 *  3600 / 1000, ' km/h')\n"
   ]
  },
  {
   "cell_type": "code",
   "execution_count": 5,
   "metadata": {},
   "outputs": [
    {
     "name": "stdout",
     "output_type": "stream",
     "text": [
      "20 Hz -> 1.922217839565548e-06 m\n",
      "1000 Hz -> 3.844435679131096e-08 m\n",
      "20000 Hz -> 1.922217839565548e-09 m\n"
     ]
    }
   ],
   "source": [
    "# b\n",
    "# ksi = v / omega\n",
    "for f in [20, 1000, 20000]:\n",
    "    v = p1 / rhoc\n",
    "    omega = 2 * 3.1415 * f\n",
    "    ksi = v / omega\n",
    "    print(f'{f} Hz -> {ksi} m')"
   ]
  },
  {
   "cell_type": "markdown",
   "metadata": {},
   "source": [
    "4. На растојание од 1 m од сферен звучен извор со радиус 3 cm кој зрачи звук со фреквенција од 100 Hz во слободен простор има **максимален** притисок $p_{1 max} = 2 $ Pa. Колкав е интензитетот на звукот $J$, притисокот $p$ и брзината на воздушните честички  $v$ за:\n",
    "- истото растојание,\n",
    "- растојание $r_2 = 10$ m,\n",
    "- растојание $r_3 = 3$ cm (на површина на изворот)."
   ]
  },
  {
   "cell_type": "markdown",
   "metadata": {},
   "source": [
    " $p = \\frac{p_{max}}{\\sqrt{2}}$\n",
    " \n",
    " $ J = \\frac{p^2}{\\rho c}$"
   ]
  },
  {
   "cell_type": "code",
   "execution_count": 6,
   "metadata": {},
   "outputs": [
    {
     "name": "stdout",
     "output_type": "stream",
     "text": [
      "1.414213562373095  Pa\n",
      "3.43\n",
      "0.8777306192202436\n",
      "0.0038918259355877147  m/s\n",
      "1.414213562373095  W/m2\n"
     ]
    }
   ],
   "source": [
    "import numpy as np\n",
    "p_1max = 2  # Pa\n",
    "p_1 = p_1max / np.sqrt(2)  # Pa\n",
    "print(p_1, ' Pa')\n",
    "r = 1  # m\n",
    "f = 100  # Hz\n",
    "c = 343  # m/s\n",
    "lamda = c / f  # m\n",
    "print(lamda)\n",
    "k = 2 * np.pi / lamda  # rad / m\n",
    "cos_phi = k*r / np.sqrt(1 + k**2 * r**2)\n",
    "print(cos_phi)  # 0.88 sferen bran\n",
    "Z_s = rhoc * cos_phi\n",
    "v_1 = p_1 / Z_s  # m/s\n",
    "print(v_1, ' m/s')\n",
    "\n",
    "J = p_1**2 / rhoc\n",
    "print(p_1, ' W/m2')"
   ]
  },
  {
   "cell_type": "markdown",
   "metadata": {},
   "source": [
    " $ pr = const$\n",
    " \n",
    " $ p_2 r_2 = p_1 r_1$"
   ]
  },
  {
   "cell_type": "code",
   "execution_count": 7,
   "metadata": {},
   "outputs": [
    {
     "name": "stdout",
     "output_type": "stream",
     "text": [
      "0.1414213562373095  Pa\n",
      "0.9985132800968506\n",
      "0.0003421060947741704  m/s\n"
     ]
    }
   ],
   "source": [
    "# pr = const\n",
    "r_2 = 10  # m\n",
    "p_2 = r/r_2 * p_1\n",
    "print(p_2, ' Pa')\n",
    "\n",
    "cos_phi = k*r_2 / np.sqrt(1 + k**2 * r_2**2)\n",
    "print(cos_phi)  # =1 ramninski bran\n",
    "\n",
    "Z_s2 = rhoc * cos_phi\n",
    "v_2 = p_2 / Z_s2  # m/s\n",
    "print(v_2, ' m/s')"
   ]
  },
  {
   "cell_type": "code",
   "execution_count": 8,
   "metadata": {},
   "outputs": [
    {
     "name": "stdout",
     "output_type": "stream",
     "text": [
      "47.14045207910317  Pa\n",
      "0.05487217766113899\n",
      "2.0751103953118277  m/s\n",
      "7.47039742312258  km/h\n",
      "0.0033026407687525437  m\n"
     ]
    }
   ],
   "source": [
    "r_0 = 0.03  # m\n",
    "p_0 = r / r_0 * p_1\n",
    "print(p_0, ' Pa')\n",
    "\n",
    "cos_phi = k*r_0 / np.sqrt(1 + k**2 * r_0**2)\n",
    "print(cos_phi)  # 0.05 sferen bran\n",
    "Z_s0 = rhoc * cos_phi\n",
    "v_0 = p_0 / Z_s0\n",
    "print(v_0, ' m/s')\n",
    "print(v_0 / 1000 * 3600, ' km/h')\n",
    "print(v_0 / (2 * np.pi * f), ' m')"
   ]
  },
  {
   "cell_type": "markdown",
   "metadata": {},
   "source": [
    "5. (1.10) Сферен извор на звук со $r_0$ од 1 cm, емитува звук во слободен простор со $f$ од 50 Hz. Колкав е теорискиот максимален звучен притисок, a колкава е максималната вредност на ефективниот звучен притисок, којшто може да го создаде на 50 cm?"
   ]
  },
  {
   "cell_type": "code",
   "execution_count": 9,
   "metadata": {},
   "outputs": [
    {
     "name": "stdout",
     "output_type": "stream",
     "text": [
      "11.912084094361056  Pa\n",
      "0.2382416818872211  Pa\n",
      "0.1684623088237423  Pa\n"
     ]
    }
   ],
   "source": [
    "r_0 = 0.01  # m\n",
    "f = 50  # Hz\n",
    "r = 0.5  # m\n",
    "c = 343  # m/s\n",
    "rhoc = 414  # kg/sm2\n",
    "# p_max = ?\n",
    "ksi_0max = r_0  # m\n",
    "omega = 2 * np.pi * f  #s-1\n",
    "v_0max = omega * ksi_0max  # m/s\n",
    "k = omega / c  # m-1\n",
    "cosphi = k*r_0 / np.sqrt(1 + k**2 * r_0**2)\n",
    "Zs = rhoc * cosphi  # kg/sm2\n",
    "p_0max = Zs * v_0max  # Pa\n",
    "print(p_0max, ' Pa')\n",
    "\n",
    "# pr = const\n",
    "p_max = r_0 / r * p_0max\n",
    "print(p_max, ' Pa')\n",
    "p = p_max / np.sqrt(2)\n",
    "print(p, ' Pa')"
   ]
  },
  {
   "cell_type": "markdown",
   "metadata": {},
   "source": [
    "6. (1.4) Во бесконечна цевка со идеално глатки ѕидови се наоѓа клип на кој делува сила $F$. Колкаво треба да е $F$ за во цевката да се создаде звучен притисок од 0,1 Pa, ако пресекот на цевката има површина $S$ од 5 cm$^2$?  Да се занемари импедансата на зрачење. Колкава е потребната моќност?"
   ]
  },
  {
   "cell_type": "code",
   "execution_count": 10,
   "metadata": {},
   "outputs": [
    {
     "name": "stdout",
     "output_type": "stream",
     "text": [
      "5e-05  N\n",
      "0.00024154589371980678  m/s\n",
      "1.207729468599034e-08  W\n"
     ]
    }
   ],
   "source": [
    "S = 5 * (0.01)**2  # m2\n",
    "p = 0.1  # Pa\n",
    "F = p * S  # N\n",
    "print(F, ' N')\n",
    "\n",
    "rhoc = 414  # Kg/sm2\n",
    "v = p / rhoc  # m/s\n",
    "print(v, ' m/s')\n",
    "P = F * v  # W\n",
    "print(P, ' W')"
   ]
  },
  {
   "cell_type": "markdown",
   "metadata": {},
   "source": [
    "7. (1.11) Звучник со мембрана од 10'' е вграден во бесконечно голема крута плоча. На растојание од 1 m создава притисок од 2 Pa на фреквенција од 50 Hz. Да се пресмета поместувањето на мембраната."
   ]
  },
  {
   "cell_type": "markdown",
   "metadata": {},
   "source": [
    "$ J = \\frac{p^2}{\\rho c} = \\frac{P_a}{\\Omega_z r^2}$\n",
    "\n",
    "$ P_a = \\frac{p^2 \\Omega_z r^2}{\\rho c}$\n",
    "\n",
    "$P_a = q^2 R_{a0} $\n",
    "\n",
    "$ R_{a0} = \\frac{\\rho c k^2}{\\Omega_z} $ - точекст извор! \n",
    "\n",
    "$v = \\frac{q}{S}$\n",
    "\n",
    "$\\xi = \\frac{v}{\\omega}$"
   ]
  },
  {
   "cell_type": "code",
   "execution_count": 11,
   "metadata": {},
   "outputs": [
    {
     "name": "stdout",
     "output_type": "stream",
     "text": [
      "0.05204590823041441  m\n"
     ]
    }
   ],
   "source": [
    "f = 50  # Hz\n",
    "r = 1  # m\n",
    "p = 2  # Pa\n",
    "\n",
    "S = 2 * np.pi * r**2  # Omega_z = 2pi - poluprostor\n",
    "\n",
    "# J = Pa / S = p**2 / rhoc\n",
    "rhoc = 414\n",
    "Pa = p**2 * S / rhoc\n",
    "\n",
    "# Pa = q**2 * Ra0\n",
    "# 10'' = 25 cm << lamda = 6.8 m -> tockest izvor\n",
    "c = 343\n",
    "k = 2 * np.pi * f / c\n",
    "Ra0 = rhoc * k**2 / (2 * np.pi)\n",
    "\n",
    "q_0 = np.sqrt(Pa / Ra0)\n",
    "\n",
    "d_0 = 2 * 0.0254\n",
    "r_0 = d_0 / 2\n",
    "S_0 = np.pi * r_0**2\n",
    "v_0 = q_0 / S_0\n",
    "\n",
    "omega = 2 * np.pi * f\n",
    "ksi_0 = v_0 / omega\n",
    "print(ksi_0, ' m')\n"
   ]
  },
  {
   "cell_type": "markdown",
   "metadata": {},
   "source": [
    "8. (1.12 + 1.13)  Точкест звучен извор емитува звук во слободен простор. Да се пресмета колку ќе се промени $p$ ако изворот се премести:\n",
    "- а) непосредно до ѕид,\n",
    "- б) на спој на два ѕида,\n",
    "- в) на спој на три ѕида.\n",
    "\n",
    "Под услов изворот да:\n",
    "- 1) генерира константен проток $q$,\n",
    "- 2) да работи со константна моќност $P_a$.\n"
   ]
  },
  {
   "cell_type": "markdown",
   "metadata": {},
   "source": [
    "$ J = \\frac{p^2}{\\rho c} = \\frac{P_a}{\\Omega_z r^2}  \\rightarrow \\frac{p'}{p} = \\sqrt{\\frac{\\Omega_z}{\\Omega_z'}}$ - за константна $P_a$\n",
    "\n",
    "$ P_a = q^2 \\frac{\\rho c k^2}{\\Omega_z}  \\rightarrow \\frac{p^2}{\\rho c} = \\frac{q^2 \\frac{\\rho c k^2}{\\Omega_z}}{\\Omega_z r^2}$"
   ]
  },
  {
   "cell_type": "markdown",
   "metadata": {},
   "source": [
    "$ \\frac{p'}{p} = \\frac{\\Omega_z}{\\Omega_z'}$"
   ]
  },
  {
   "cell_type": "code",
   "execution_count": 12,
   "metadata": {},
   "outputs": [
    {
     "name": "stdout",
     "output_type": "stream",
     "text": [
      "a 1.4142135623730951 2.0\n",
      "b 2.0 4.0\n",
      "v 2.8284271247461903 8.0\n"
     ]
    }
   ],
   "source": [
    "import numpy as np\n",
    "\n",
    "Omega_z0 = 4 * np.pi\n",
    "# a\n",
    "Omega_z1 = 2 * np.pi\n",
    "p1_p0_1 = np.sqrt(Omega_z0 / Omega_z1)  # konstantna Pa\n",
    "p1_p0_2 = Omega_z0 / Omega_z1  # konstanten protok\n",
    "print('a', p1_p0_1, p1_p0_2)\n",
    "\n",
    "# b\n",
    "Omega_z2 = np.pi\n",
    "p2_p0_1 = np.sqrt(Omega_z0 / Omega_z2)  # konstantna Pa\n",
    "p2_p0_2 = Omega_z0 / Omega_z2  # konstanten protok\n",
    "print('b', p2_p0_1, p2_p0_2)\n",
    "\n",
    "\n",
    "# v\n",
    "Omega_z3 = np.pi / 2\n",
    "p3_p0_1 = np.sqrt(Omega_z0 / Omega_z3)  # konstantna Pa\n",
    "p3_p0_2 = Omega_z0 / Omega_z3  # konstanten protok\n",
    "print('v', p3_p0_1, p3_p0_2)"
   ]
  },
  {
   "cell_type": "markdown",
   "metadata": {},
   "source": [
    "1.14 - кардиода - за дома\n",
    "\n",
    "$ \\Gamma = \\frac{1 + \\cos \\theta}{2}$\n",
    "\n",
    "$ \\Omega_z = \\int_0^{4\\pi} \\Gamma^2 d\\Omega = \\frac{4}{3}\\pi$\n",
    "\n",
    "$ \\gamma = \\frac{4\\pi}{\\Omega_z} = 3 $"
   ]
  }
 ],
 "metadata": {
  "kernelspec": {
   "display_name": "Python 3 (ipykernel)",
   "language": "python",
   "name": "python3"
  },
  "language_info": {
   "codemirror_mode": {
    "name": "ipython",
    "version": 3
   },
   "file_extension": ".py",
   "mimetype": "text/x-python",
   "name": "python",
   "nbconvert_exporter": "python",
   "pygments_lexer": "ipython3",
   "version": "3.9.13"
  }
 },
 "nbformat": 4,
 "nbformat_minor": 4
}
